{
 "cells": [
  {
   "cell_type": "code",
   "execution_count": 1,
   "metadata": {},
   "outputs": [],
   "source": [
    "import numpy as np\n",
    "import random as rd\n",
    "import math\n",
    "import itertools as itr\n",
    "from sympy import factorial"
   ]
  },
  {
   "cell_type": "markdown",
   "metadata": {},
   "source": [
    "1.  Последовательность это частный случай множества\n",
    "2.  Высказывания математич логики, все отрицания будут в фото к дз:\n",
    "\n",
    "    2.1 Для любого y от 0 до 1 включительно, сигнум равен 1. Высказывание ложное.\n",
    "    \n",
    "    2.2 Для любого натурального числа n, большего 2, существуют такие натуральные x, y и z, для которых x в степени n равен сумме y в степени n и z в степени n. Высказывание ложное.\n",
    "    \n",
    "    2.3 Для любого вещественного числа x существует вещественное число X, которое больше x. Высказывание верное.\n",
    "    \n",
    "    2.4 Для любого комплексного x не существует комплексного y, для которого может быть выполнено условие: x больше y или x меньше y. Высказывание ложное.\n",
    "    \n",
    "    2.5 Для любого y от 0 до pi/2 включительно существует epsilon больше 0, при котором sin(y) < sin(y + epsilon). Высказывание ложное.\n",
    "    \n",
    "    2.6 Для любого y от 0 до pi (не включая pi) существует epsilon больше 0, при котором cos(y) > cos(y + epsilon). Высказывание верное.\n",
    "    \n",
    "    2.7 Существует x, не принадлежащий множествам натуральных, целых, рациональных, вещественных и комплексных чисел."
   ]
  },
  {
   "cell_type": "markdown",
   "metadata": {},
   "source": [
    "Тема Множество"
   ]
  },
  {
   "cell_type": "code",
   "execution_count": 9,
   "metadata": {},
   "outputs": [],
   "source": [
    "rd.seed(42)\n",
    "a = set([rd.randint(0, 99) for _ in range(rd.randint(1, 5))])\n",
    "b = set([rd.randint(0, 99) for _ in range(rd.randint(1, 5))])\n",
    "c = set([rd.randint(0, 99) for _ in range(rd.randint(1, 5))])"
   ]
  },
  {
   "cell_type": "code",
   "execution_count": 10,
   "metadata": {},
   "outputs": [
    {
     "name": "stdout",
     "output_type": "stream",
     "text": [
      "a: {3}\n",
      "b: {17, 28, 31}\n",
      "c: {86}\n"
     ]
    }
   ],
   "source": [
    "print(f'a: {a}')\n",
    "print(f'b: {b}')\n",
    "print(f'c: {c}')"
   ]
  },
  {
   "cell_type": "code",
   "execution_count": 11,
   "metadata": {},
   "outputs": [],
   "source": [
    "sets = {\n",
    "    'a': a,\n",
    "    'b': b,\n",
    "    'c': c\n",
    "}"
   ]
  },
  {
   "cell_type": "code",
   "execution_count": 12,
   "metadata": {},
   "outputs": [
    {
     "name": "stdout",
     "output_type": "stream",
     "text": [
      "Множества: a, b\n",
      "x: {3},\n",
      "y: {17, 28, 31}\n",
      "Объединение a | b: {17, 3, 28, 31}\n",
      "Пересечение a & b: set()\n",
      "Разность a - b: {3}\n",
      "Симметрическая разность a ^ b: {17, 3, 28, 31}\n",
      "Декартово произведение a * b: {(3, 28), (3, 31), (3, 17)}\n",
      "\n",
      "Множества: a, c\n",
      "x: {3},\n",
      "y: {86}\n",
      "Объединение a | c: {3, 86}\n",
      "Пересечение a & c: set()\n",
      "Разность a - c: {3}\n",
      "Симметрическая разность a ^ c: {3, 86}\n",
      "Декартово произведение a * c: {(3, 86)}\n",
      "\n",
      "Множества: b, c\n",
      "x: {17, 28, 31},\n",
      "y: {86}\n",
      "Объединение b | c: {17, 28, 86, 31}\n",
      "Пересечение b & c: set()\n",
      "Разность b - c: {17, 28, 31}\n",
      "Симметрическая разность b ^ c: {17, 28, 86, 31}\n",
      "Декартово произведение b * c: {(31, 86), (17, 86), (28, 86)}\n",
      "\n"
     ]
    }
   ],
   "source": [
    "for combination in itr.combinations(sets.keys(), 2):\n",
    "    x, y = combination[0], combination[1]\n",
    "    print(f'Множества: {x}, {y}')\n",
    "    print(f'x: {sets[x]},\\ny: {sets[y]}')\n",
    "    print(f'Объединение {x} | {y}: {sets[x] | sets[y]}')\n",
    "    print(f'Пересечение {x} & {y}: {sets[x] & sets[y]}')\n",
    "    print(f'Разность {x} - {y}: {sets[x] - sets[y]}')\n",
    "    print(f'Симметрическая разность {x} ^ {y}: {sets[x] ^ sets[y]}')\n",
    "    cartesian = []\n",
    "    for item in itr.product(sets[x], sets[y]):\n",
    "        cartesian.append(item)\n",
    "    print(f'Декартово произведение {x} * {y}: {set(cartesian)}')\n",
    "    print()"
   ]
  },
  {
   "cell_type": "markdown",
   "metadata": {},
   "source": [
    "Тема Последовательность.\n",
    "\n",
    "Задание 1"
   ]
  },
  {
   "cell_type": "code",
   "execution_count": 13,
   "metadata": {},
   "outputs": [],
   "source": [
    "def monot(sequence):\n",
    "    for i in range(1, len(sequence)):\n",
    "        if sequence[i] > sequence[i-1]:\n",
    "            return 'Последовательность монотонно возрастает'\n",
    "        elif sequence[i] < sequence[i-1]:\n",
    "            return 'Последовательность монотонно убывает'\n",
    "        else:\n",
    "            return 'Последовательность не изменяетя'"
   ]
  },
  {
   "cell_type": "code",
   "execution_count": 14,
   "metadata": {},
   "outputs": [
    {
     "name": "stdout",
     "output_type": "stream",
     "text": [
      "Последовательность монотонно возрастает\n",
      "Пятый по счету член последовательности 2 ^ n - n: 27\n"
     ]
    }
   ],
   "source": [
    "# a: 2 ** n - n\n",
    "# n = 1, +oo\n",
    "\n",
    "# последовательность ограничена снизу числом 1\n",
    "\n",
    "def f1(n):\n",
    "    return 2 ** n - n\n",
    "\n",
    "ns = list(range(1, 11, 1))\n",
    "elements = list(map(f1, ns))\n",
    "\n",
    "print(monot(elements))\n",
    "print(f'Пятый по счету член последовательности 2 ^ n - n: {f1(ns[4])}')"
   ]
  },
  {
   "cell_type": "code",
   "execution_count": 15,
   "metadata": {},
   "outputs": [
    {
     "name": "stdout",
     "output_type": "stream",
     "text": [
      "Последовательность монотонно убывает\n",
      "Пятый по счету член последовательности 1 / (n - 1): 0.2\n"
     ]
    }
   ],
   "source": [
    "# b: 1 / (n - 1)\n",
    "# n = 2, +oo\n",
    "\n",
    "# последовательность ограничена сверху числом 1\n",
    "\n",
    "def f2(n):\n",
    "    return 1 / (n - 1)\n",
    "\n",
    "ns = list(range(2, 12, 1))\n",
    "elements = list(map(f2, ns))\n",
    "\n",
    "print(monot(elements))\n",
    "print(f'Пятый по счету член последовательности 1 / (n - 1): {f2(ns[4])}')"
   ]
  },
  {
   "cell_type": "code",
   "execution_count": 16,
   "metadata": {},
   "outputs": [
    {
     "name": "stdout",
     "output_type": "stream",
     "text": [
      "Последовательность монотонно возрастает\n",
      "Пятый по счету член последовательности -1 ^ n + sqrt(2 * n): 2.1622776601683795\n"
     ]
    }
   ],
   "source": [
    "# b: -1 ** n + sqrt(2 * n)\n",
    "# n = 1, +oo\n",
    "\n",
    "# последовательность ограничена снизу числом -1\n",
    "\n",
    "def f3(n):\n",
    "    return -1 ** n + math.sqrt(2 * n)\n",
    "\n",
    "ns = list(range(1, 11, 1))\n",
    "elements = list(map(f3, ns))\n",
    "\n",
    "print(monot(elements))\n",
    "print(f'Пятый по счету член последовательности -1 ^ n + sqrt(2 * n): {f3(ns[4])}')"
   ]
  },
  {
   "cell_type": "code",
   "execution_count": 18,
   "metadata": {},
   "outputs": [
    {
     "name": "stdout",
     "output_type": "stream",
     "text": [
      "Последовательность монотонно убывает\n",
      "Пятый по счету член последовательности (-1) ^ (2 * n) + 1 / (n ^ 2): 1.04\n"
     ]
    }
   ],
   "source": [
    "# b: (-1) ** (2 * n) + 1 / (n ** 2)\n",
    "# n = 1, +oo\n",
    "\n",
    "# последовательность ограничена сверху числом 2\n",
    "\n",
    "def f4(n):\n",
    "    return (-1) ** (2 * n) + 1 / (n ** 2)\n",
    "\n",
    "ns = list(range(1, 11, 1))\n",
    "elements = list(map(f4, ns))\n",
    "\n",
    "print(monot(elements))\n",
    "print(f'Пятый по счету член последовательности (-1) ^ (2 * n) + 1 / (n ^ 2): {f4(ns[4])}')"
   ]
  },
  {
   "cell_type": "markdown",
   "metadata": {},
   "source": [
    "Задание 2"
   ]
  },
  {
   "cell_type": "code",
   "execution_count": 19,
   "metadata": {},
   "outputs": [
    {
     "name": "stdout",
     "output_type": "stream",
     "text": [
      "a12: 194\n"
     ]
    }
   ],
   "source": [
    "a1 = 128\n",
    "d = 6\n",
    "\n",
    "# a(n) = a1 + (n - 1) * d\n",
    "\n",
    "a12 = a1 + (12 - 1) * d\n",
    "\n",
    "print(f'a12: {a12}')"
   ]
  },
  {
   "cell_type": "code",
   "execution_count": null,
   "metadata": {},
   "outputs": [],
   "source": []
  }
 ],
 "metadata": {
  "kernelspec": {
   "display_name": "Python 3",
   "language": "python",
   "name": "python3"
  },
  "language_info": {
   "codemirror_mode": {
    "name": "ipython",
    "version": 3
   },
   "file_extension": ".py",
   "mimetype": "text/x-python",
   "name": "python",
   "nbconvert_exporter": "python",
   "pygments_lexer": "ipython3",
   "version": "3.8.3"
  }
 },
 "nbformat": 4,
 "nbformat_minor": 4
}
